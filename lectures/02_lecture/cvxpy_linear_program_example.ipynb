{
 "cells": [
  {
   "cell_type": "code",
   "execution_count": 1,
   "id": "c603f154-d3fc-4864-80d6-2ae0b60de2d7",
   "metadata": {},
   "outputs": [],
   "source": [
    "# Import packages.\n",
    "import cvxpy as cp\n",
    "import numpy as np"
   ]
  },
  {
   "cell_type": "code",
   "execution_count": 2,
   "id": "dff2153c-4160-414f-9617-bebb0ef20bf6",
   "metadata": {},
   "outputs": [],
   "source": [
    "# Generate a random non-trivial linear program.\n",
    "m = 15\n",
    "n = 10\n",
    "np.random.seed(1)\n",
    "s0 = np.random.randn(m)\n",
    "lamb0 = np.maximum(-s0, 0)\n",
    "s0 = np.maximum(s0, 0)\n",
    "x0 = np.random.randn(n)\n",
    "A = np.random.randn(m, n)\n",
    "b = A @ x0 + s0\n",
    "c = -A.T @ lamb0"
   ]
  },
  {
   "cell_type": "code",
   "execution_count": 3,
   "id": "56a37a66-60e8-4d3e-a9b5-751ba9a4109b",
   "metadata": {},
   "outputs": [
    {
     "data": {
      "text/plain": [
       "np.float64(-15.2209126044048)"
      ]
     },
     "execution_count": 3,
     "metadata": {},
     "output_type": "execute_result"
    }
   ],
   "source": [
    "# Define and solve the CVXPY problem.\n",
    "x = cp.Variable(n)\n",
    "prob = cp.Problem(cp.Minimize(c.T@x),\n",
    "                 [A @ x <= b])\n",
    "prob.solve()"
   ]
  },
  {
   "cell_type": "code",
   "execution_count": 4,
   "id": "79f1282d-68e0-42be-8d75-e543ac328b91",
   "metadata": {},
   "outputs": [
    {
     "name": "stdout",
     "output_type": "stream",
     "text": [
      "\n",
      "The optimal value is -15.2209126044048\n",
      "A solution x is\n",
      "[-1.1015836  -0.16207264 -0.90072438  0.03042621  0.61108486 -1.13141957\n",
      "  1.1270734   0.87833368  0.48871908  0.89807117]\n",
      "A dual solution is\n",
      "[2.45894274e-09 6.11756417e-01 5.28171745e-01 1.07296862e+00\n",
      " 6.38551635e-09 2.30153871e+00 1.12756177e-09 7.61206895e-01\n",
      " 1.31943115e-08 2.49370376e-01 2.02551516e-09 2.06014070e+00\n",
      " 3.22417209e-01 3.84054335e-01 2.94504000e-09]\n"
     ]
    }
   ],
   "source": [
    "# Print result.\n",
    "print(\"\\nThe optimal value is\", prob.value)\n",
    "print(\"A solution x is\")\n",
    "print(x.value)\n",
    "print(\"A dual solution is\")\n",
    "print(prob.constraints[0].dual_value)"
   ]
  },
  {
   "cell_type": "code",
   "execution_count": null,
   "id": "e0d0ae7e-0194-43b6-a83c-605c6da05d43",
   "metadata": {},
   "outputs": [],
   "source": []
  }
 ],
 "metadata": {
  "kernelspec": {
   "display_name": "Python 3 (ipykernel)",
   "language": "python",
   "name": "python3"
  },
  "language_info": {
   "codemirror_mode": {
    "name": "ipython",
    "version": 3
   },
   "file_extension": ".py",
   "mimetype": "text/x-python",
   "name": "python",
   "nbconvert_exporter": "python",
   "pygments_lexer": "ipython3",
   "version": "3.11.7"
  }
 },
 "nbformat": 4,
 "nbformat_minor": 5
}
